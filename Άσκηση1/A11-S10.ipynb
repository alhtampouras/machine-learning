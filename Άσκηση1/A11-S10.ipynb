{
  "nbformat": 4,
  "nbformat_minor": 0,
  "metadata": {
    "colab": {
      "name": "A11-S10.ipynb",
      "version": "0.3.2",
      "provenance": [],
      "collapsed_sections": []
    },
    "kernelspec": {
      "name": "python3",
      "display_name": "Python 3",
      "language": "python"
    }
  },
  "cells": [
    {
      "metadata": {
        "id": "7KV8a7cKgUm3",
        "colab_type": "text"
      },
      "cell_type": "markdown",
      "source": [
        "# Α. Στοιχεία Ομάδας\n",
        "***\n",
        "***\n",
        "\n",
        "|Όνομα|ΑΜ|Ομάδα|\n",
        "|-|-|-|\n",
        "|Λιάτσος Γεώργιος-Ελευθέριος|03114026|Α11|\n",
        "|Κουτρούλης Σπυραντώνης     |03114864|Α11|"
      ]
    },
    {
      "metadata": {
        "trusted": true,
        "scrolled": false,
        "id": "sK-bo6d7gUm4",
        "colab_type": "code",
        "outputId": "e1d9e407-035d-48d5-d636-8874d33e19c7",
        "colab": {
          "base_uri": "https://localhost:8080/",
          "height": 201
        }
      },
      "cell_type": "code",
      "source": [
        "!pip install --upgrade pip #upgrade pip package installer\n",
        "!pip install scikit-learn --upgrade #upgrade scikit-learn package\n",
        "!pip install numpy --upgrade #upgrade numpy package\n",
        "!pip install pandas --upgrade #upgrade pandas package\n",
        "!pip install -U imbalanced-learn #upgrade imbalanced-learn package"
      ],
      "execution_count": 0,
      "outputs": [
        {
          "output_type": "stream",
          "text": [
            "Requirement already up-to-date: pip in /usr/local/lib/python3.6/dist-packages (18.1)\n",
            "Requirement already up-to-date: scikit-learn in /usr/local/lib/python3.6/dist-packages (0.20.1)\n",
            "Requirement already satisfied, skipping upgrade: scipy>=0.13.3 in /usr/local/lib/python3.6/dist-packages (from scikit-learn) (1.1.0)\n",
            "Requirement already satisfied, skipping upgrade: numpy>=1.8.2 in /usr/local/lib/python3.6/dist-packages (from scikit-learn) (1.15.4)\n",
            "Requirement already up-to-date: numpy in /usr/local/lib/python3.6/dist-packages (1.15.4)\n",
            "Requirement already up-to-date: pandas in /usr/local/lib/python3.6/dist-packages (0.23.4)\n",
            "Requirement already satisfied, skipping upgrade: python-dateutil>=2.5.0 in /usr/local/lib/python3.6/dist-packages (from pandas) (2.5.3)\n",
            "Requirement already satisfied, skipping upgrade: pytz>=2011k in /usr/local/lib/python3.6/dist-packages (from pandas) (2018.7)\n",
            "Requirement already satisfied, skipping upgrade: numpy>=1.9.0 in /usr/local/lib/python3.6/dist-packages (from pandas) (1.15.4)\n",
            "Requirement already satisfied, skipping upgrade: six>=1.5 in /usr/local/lib/python3.6/dist-packages (from python-dateutil>=2.5.0->pandas) (1.11.0)\n"
          ],
          "name": "stdout"
        }
      ]
    },
    {
      "metadata": {
        "id": "RZ4Q_p9NgUm9",
        "colab_type": "text"
      },
      "cell_type": "markdown",
      "source": [
        "***\n",
        "***\n",
        "# Β. Εισαγωγή του dataset\n",
        "***\n",
        "***"
      ]
    },
    {
      "metadata": {
        "id": "exD5p-D0gUm_",
        "colab_type": "text"
      },
      "cell_type": "markdown",
      "source": [
        "### B1. Παρουσίαση του dataset\n",
        " Τα δεδομένα αποτελούν στοιχεία της σιλουέτας 4 αυτοκινήτων(van,saab,opel,bus) τα οποία εθεάθησαν απο διάφορες γωνίες για να γίνουν οι απαραίτητες μετρήσεις\n"
      ]
    },
    {
      "metadata": {
        "id": "RmFGOwYpgUnA",
        "colab_type": "text"
      },
      "cell_type": "markdown",
      "source": [
        "#### Διάβασμα των αρχείων και δημιουργία του πίνακα με τα δεδομένα"
      ]
    },
    {
      "metadata": {
        "trusted": true,
        "id": "X_Qin9vpgUnB",
        "colab_type": "code",
        "outputId": "fe12728a-625a-4835-9389-71b0d5134311",
        "colab": {
          "base_uri": "https://localhost:8080/",
          "height": 34
        }
      },
      "cell_type": "code",
      "source": [
        "import pandas as pd\n",
        "import numpy as np\n",
        "\n",
        "A = ['a','b','c','d','e','f','g','h','i']\n",
        "a = []\n",
        "for i in A:\n",
        "    a.append(pd.read_table(\"https://archive.ics.uci.edu/ml/machine-learning-databases/statlog/vehicle/xa\"+ '{}'.format(i) + \".dat\",header=None,delim_whitespace=True))\n",
        "    \n",
        "x = pd.concat([a[0],a[1],a[2],a[3],a[4],a[5],a[6],a[7],a[8]])\n",
        "x.shape"
      ],
      "execution_count": 0,
      "outputs": [
        {
          "output_type": "execute_result",
          "data": {
            "text/plain": [
              "(846, 19)"
            ]
          },
          "metadata": {
            "tags": []
          },
          "execution_count": 2
        }
      ]
    },
    {
      "metadata": {
        "id": "6xuZfj1NgUnF",
        "colab_type": "text"
      },
      "cell_type": "markdown",
      "source": [
        "### B2. Δείγματα και χαρακτηριστικά \n",
        "\n",
        " Το μέγεθος του dataset το βρήκαμε απο πάνω. Οπότε ο αριθμός των δειγμάτων είναι 846 και ο αριθμός των χαρακτηριστικών είναι 18 + 1 της κλάσης.\n",
        "\n",
        " Τα χαρακτηριστικά αναγράφονται στο αρχείο \"vehicle.doc\" στον ίδιο φάκελο με τα αρχεία data και είναι τα εξής : \n",
        " \n",
        "    1.COMPACTNESS (average perim)**2/area\n",
        "\t2.CIRCULARITY (average radius)**2/area\n",
        "\t3.CIRCULARITY area/(av.distance from border)**2\n",
        "\t4.RATIO (max.rad-min.rad)/av.radius\n",
        "\t5.PR.AXIS ASPECT RATIO (minor axis)/(major axis)\n",
        "\t6.MAX.LENGTH ASPECT RATIO\t(length perp. max length)/(max length)\n",
        "\t7.SCATTER RATIO (inertia about minor axis)/(inertia about major axis)\n",
        "\t8.ELONGATEDNESS area/(shrink width)**2\n",
        "\t9.PR.AXIS RECTANGULARITY\tarea/(pr.axis length*pr.axis width)\n",
        "    10.MAX.LENGTH RECTANGULARITY area/(max.length*length perp. to this)\n",
        "    11.SCALED VARIANCE ALONG MAJOR AXIS (2nd order moment about minor axis)/area\n",
        "\t12.SCALED VARIANCE ALONG MINOR AXIS (2nd order moment about major axis)/area\n",
        "\t13.SCALED RADIUS OF GYRATION (mavar+mivar)/area\n",
        "\t14.SKEWNESS ABOUT MAJOR AXIS (3rd order moment about major axis)/sigma_min**3\n",
        "\t15.SKEWNESS ABOUT MINOR AXIS (3rd order moment about minor axis)/sigma_maj**3\n",
        "\t16.ABOUT MINOR AXIS (4th order moment about major axis)/sigma_min**4\n",
        "\t17.KURTOSIS ABOUT MAJOR AXIS (4th order moment about minor axis)/sigma_maj**4\n",
        "\t18.HOLLOWS RATIO (area of hollows)/(area of bounding polygon)\n",
        "    19.CLASS\n",
        " \n",
        " #### Δεν υπάρχουν μη διατεταγμένα χαρακτηριστικά"
      ]
    },
    {
      "metadata": {
        "id": "ogyPGmKvgUnG",
        "colab_type": "text"
      },
      "cell_type": "markdown",
      "source": [
        "#### Αλλαγή ονομάτων στηλών σύμφωνα με τα attributes"
      ]
    },
    {
      "metadata": {
        "trusted": true,
        "scrolled": true,
        "id": "Jy4h4KjOgUnH",
        "colab_type": "code",
        "outputId": "a35a8fe8-568e-4ac9-a244-cba15b949d52",
        "colab": {
          "base_uri": "https://localhost:8080/",
          "height": 275
        }
      },
      "cell_type": "code",
      "source": [
        "attributes = ['COMPACTNESS','CIRCULARITY','DISTANCE CIRCULARITY','RADIUS RATIO','PR.AXIS ASPECT RATIO','MAX.LENGTH ASPECT RATIO','SCATTER RATIO','ELONGATEDNESS',\n",
        "              'PR.AXIS RECTANGULARITY','MAX.LENGTH RECTANGULARITY','SCALED VARIANCE(MAJOR AXIS)','SCALED VARIETY(MINOR AXIS)','SCALED RADIUS OF GYRATION',\n",
        "              'SKEWNESS(MAJOR AXIS)','SKEWNESS(MINOR AXIS)','KURTOSIS(MINOR AXIS)','KURTOSIS(MAJOR AXIS)','HOLLOWS RATIO','CLASS']\n",
        "for i in range(0,19):\n",
        "    x.rename(columns = {i:attributes[i]},inplace=True)\n",
        "x.head()    "
      ],
      "execution_count": 0,
      "outputs": [
        {
          "output_type": "execute_result",
          "data": {
            "text/html": [
              "<div>\n",
              "<style scoped>\n",
              "    .dataframe tbody tr th:only-of-type {\n",
              "        vertical-align: middle;\n",
              "    }\n",
              "\n",
              "    .dataframe tbody tr th {\n",
              "        vertical-align: top;\n",
              "    }\n",
              "\n",
              "    .dataframe thead th {\n",
              "        text-align: right;\n",
              "    }\n",
              "</style>\n",
              "<table border=\"1\" class=\"dataframe\">\n",
              "  <thead>\n",
              "    <tr style=\"text-align: right;\">\n",
              "      <th></th>\n",
              "      <th>COMPACTNESS</th>\n",
              "      <th>CIRCULARITY</th>\n",
              "      <th>DISTANCE CIRCULARITY</th>\n",
              "      <th>RADIUS RATIO</th>\n",
              "      <th>PR.AXIS ASPECT RATIO</th>\n",
              "      <th>MAX.LENGTH ASPECT RATIO</th>\n",
              "      <th>SCATTER RATIO</th>\n",
              "      <th>ELONGATEDNESS</th>\n",
              "      <th>PR.AXIS RECTANGULARITY</th>\n",
              "      <th>MAX.LENGTH RECTANGULARITY</th>\n",
              "      <th>SCALED VARIANCE(MAJOR AXIS)</th>\n",
              "      <th>SCALED VARIETY(MINOR AXIS)</th>\n",
              "      <th>SCALED RADIUS OF GYRATION</th>\n",
              "      <th>SKEWNESS(MAJOR AXIS)</th>\n",
              "      <th>SKEWNESS(MINOR AXIS)</th>\n",
              "      <th>KURTOSIS(MINOR AXIS)</th>\n",
              "      <th>KURTOSIS(MAJOR AXIS)</th>\n",
              "      <th>HOLLOWS RATIO</th>\n",
              "      <th>CLASS</th>\n",
              "    </tr>\n",
              "  </thead>\n",
              "  <tbody>\n",
              "    <tr>\n",
              "      <th>0</th>\n",
              "      <td>95</td>\n",
              "      <td>48</td>\n",
              "      <td>83</td>\n",
              "      <td>178</td>\n",
              "      <td>72</td>\n",
              "      <td>10</td>\n",
              "      <td>162</td>\n",
              "      <td>42</td>\n",
              "      <td>20</td>\n",
              "      <td>159</td>\n",
              "      <td>176</td>\n",
              "      <td>379</td>\n",
              "      <td>184</td>\n",
              "      <td>70</td>\n",
              "      <td>6</td>\n",
              "      <td>16</td>\n",
              "      <td>187</td>\n",
              "      <td>197</td>\n",
              "      <td>van</td>\n",
              "    </tr>\n",
              "    <tr>\n",
              "      <th>1</th>\n",
              "      <td>91</td>\n",
              "      <td>41</td>\n",
              "      <td>84</td>\n",
              "      <td>141</td>\n",
              "      <td>57</td>\n",
              "      <td>9</td>\n",
              "      <td>149</td>\n",
              "      <td>45</td>\n",
              "      <td>19</td>\n",
              "      <td>143</td>\n",
              "      <td>170</td>\n",
              "      <td>330</td>\n",
              "      <td>158</td>\n",
              "      <td>72</td>\n",
              "      <td>9</td>\n",
              "      <td>14</td>\n",
              "      <td>189</td>\n",
              "      <td>199</td>\n",
              "      <td>van</td>\n",
              "    </tr>\n",
              "    <tr>\n",
              "      <th>2</th>\n",
              "      <td>104</td>\n",
              "      <td>50</td>\n",
              "      <td>106</td>\n",
              "      <td>209</td>\n",
              "      <td>66</td>\n",
              "      <td>10</td>\n",
              "      <td>207</td>\n",
              "      <td>32</td>\n",
              "      <td>23</td>\n",
              "      <td>158</td>\n",
              "      <td>223</td>\n",
              "      <td>635</td>\n",
              "      <td>220</td>\n",
              "      <td>73</td>\n",
              "      <td>14</td>\n",
              "      <td>9</td>\n",
              "      <td>188</td>\n",
              "      <td>196</td>\n",
              "      <td>saab</td>\n",
              "    </tr>\n",
              "    <tr>\n",
              "      <th>3</th>\n",
              "      <td>93</td>\n",
              "      <td>41</td>\n",
              "      <td>82</td>\n",
              "      <td>159</td>\n",
              "      <td>63</td>\n",
              "      <td>9</td>\n",
              "      <td>144</td>\n",
              "      <td>46</td>\n",
              "      <td>19</td>\n",
              "      <td>143</td>\n",
              "      <td>160</td>\n",
              "      <td>309</td>\n",
              "      <td>127</td>\n",
              "      <td>63</td>\n",
              "      <td>6</td>\n",
              "      <td>10</td>\n",
              "      <td>199</td>\n",
              "      <td>207</td>\n",
              "      <td>van</td>\n",
              "    </tr>\n",
              "    <tr>\n",
              "      <th>4</th>\n",
              "      <td>85</td>\n",
              "      <td>44</td>\n",
              "      <td>70</td>\n",
              "      <td>205</td>\n",
              "      <td>103</td>\n",
              "      <td>52</td>\n",
              "      <td>149</td>\n",
              "      <td>45</td>\n",
              "      <td>19</td>\n",
              "      <td>144</td>\n",
              "      <td>241</td>\n",
              "      <td>325</td>\n",
              "      <td>188</td>\n",
              "      <td>127</td>\n",
              "      <td>9</td>\n",
              "      <td>11</td>\n",
              "      <td>180</td>\n",
              "      <td>183</td>\n",
              "      <td>bus</td>\n",
              "    </tr>\n",
              "  </tbody>\n",
              "</table>\n",
              "</div>"
            ],
            "text/plain": [
              "   COMPACTNESS  CIRCULARITY  ...    HOLLOWS RATIO  CLASS\n",
              "0           95           48  ...              197    van\n",
              "1           91           41  ...              199    van\n",
              "2          104           50  ...              196   saab\n",
              "3           93           41  ...              207    van\n",
              "4           85           44  ...              183    bus\n",
              "\n",
              "[5 rows x 19 columns]"
            ]
          },
          "metadata": {
            "tags": []
          },
          "execution_count": 3
        }
      ]
    },
    {
      "metadata": {
        "id": "t7n9_6_ngUnM",
        "colab_type": "text"
      },
      "cell_type": "markdown",
      "source": [
        "### Β3. Επικεφαλίδες και αρίθμηση γραμμών\n",
        "\n",
        " Όταν πρωτοδιαβάσαμε το αρχείο παρατηρήσαμε πως δεν υπάρχει επικεφαλίδα οπότε με την επιλογή header=None της εντολής read_table της βιβλιοθήκης pandas εξασφαλίσαμε μια ομαλή απεικόνιση. Όσον αφορά την αρίθμηση, το αρχείο δεν περιείχε απο μόνο του οπότε αφήσαμε το pandas να κάνει τη δουλειά του indexing με τη δική του αρίθμηση. "
      ]
    },
    {
      "metadata": {
        "id": "NWa1uaDdgUnN",
        "colab_type": "text"
      },
      "cell_type": "markdown",
      "source": [
        "### Β4.  Κλάσεις \n",
        "\n",
        "Εύκολα μπορούμε να δούμε απο πάνω πως η κολόνα class βρίσκεται στην 19η θέση και από τα χαρακτηριστικά φαίνεται πως οι ετικέτες των κλάσεων είναι 4 : van,saab,opel,bus"
      ]
    },
    {
      "metadata": {
        "id": "hWYbpWakgUnO",
        "colab_type": "text"
      },
      "cell_type": "markdown",
      "source": [
        "### Β5. Μετατροπές στα αρχεία\n",
        "\n",
        "- header = None για να διαβάσουμε το αρχείο χωρίς επικεφαλίδα\n",
        "- delim_whitespace = True γιατί διάβαζε κάποια κενά στην τελευταία στήλη επειδή αν δούμε τις κλάσεις κάποιες είναι 4 γράμματα και κάποιες 3. Οπότε έπρεπε να αγνοήσουμε τα κενά για την ομαλή συνέχεια\n",
        "- Τα δεδομένα βρίσκονταν σε 8 διαφορετικά αρχεία. Αφού τα διαβάσαμε και τα κάναμε ένα ένα append σε μία κενή λίστα, κάναμε concat τα στοιχεία της λίστας για να έχουμε ένα συγκεντρωτικό dataframe\n",
        "- Δημιουργήσαμε τον πίνακα με τα attributes και τον προσαρμόσαμε στο dataframe"
      ]
    },
    {
      "metadata": {
        "id": "mcG_448xgUnP",
        "colab_type": "text"
      },
      "cell_type": "markdown",
      "source": [
        "### B6. Απουσιάζουσες τιμές\n"
      ]
    },
    {
      "metadata": {
        "trusted": true,
        "id": "Od1Gr9MmgUnQ",
        "colab_type": "code",
        "outputId": "f5369e44-1244-429e-b0ba-70c15229df40",
        "colab": {
          "base_uri": "https://localhost:8080/",
          "height": 34
        }
      },
      "cell_type": "code",
      "source": [
        "x.isnull().values.any()"
      ],
      "execution_count": 0,
      "outputs": [
        {
          "output_type": "execute_result",
          "data": {
            "text/plain": [
              "False"
            ]
          },
          "metadata": {
            "tags": []
          },
          "execution_count": 4
        }
      ]
    },
    {
      "metadata": {
        "id": "QqFyiuP_dfey",
        "colab_type": "text"
      },
      "cell_type": "markdown",
      "source": [
        "Ελέγχουμε αν υπάρχουν απουσιάζουσες τιμές. **Δεν υπάρχουν.**"
      ]
    },
    {
      "metadata": {
        "id": "MACF4ZaOgUnV",
        "colab_type": "text"
      },
      "cell_type": "markdown",
      "source": [
        "### B7. Έλεγχος εξισορροπημένου dataset"
      ]
    },
    {
      "metadata": {
        "trusted": true,
        "id": "CkD7mePPgUnW",
        "colab_type": "code",
        "outputId": "8276a70f-bd27-4a32-ca24-2a9d7e24723d",
        "colab": {
          "base_uri": "https://localhost:8080/",
          "height": 102
        }
      },
      "cell_type": "code",
      "source": [
        "# Έλεγχος μονο της στήλης CLASS\n",
        "y = x.loc[:,['CLASS']]\n",
        "\n",
        "# Get dummies για τα classes μας\n",
        "y = pd.get_dummies(y)\n",
        "\n",
        "# Εύρεση ποσοστών δειγμάτων επί του συνόλου\n",
        "avg = (y.T.sum(axis=1))/y.shape[0]\n",
        "\n",
        "print(avg)"
      ],
      "execution_count": 0,
      "outputs": [
        {
          "output_type": "stream",
          "text": [
            "CLASS_bus     0.257683\n",
            "CLASS_opel    0.250591\n",
            "CLASS_saab    0.256501\n",
            "CLASS_van     0.235225\n",
            "dtype: float64\n"
          ],
          "name": "stdout"
        }
      ]
    },
    {
      "metadata": {
        "slideshow": {
          "slide_type": "fragment"
        },
        "id": "Tp7HV-MmgUnd",
        "colab_type": "text"
      },
      "cell_type": "markdown",
      "source": [
        "Παρατηρούμε λοιπόν πως το dataset **είναι εξισορροπημένο**."
      ]
    },
    {
      "metadata": {
        "id": "T0wfUMZzgUnd",
        "colab_type": "text"
      },
      "cell_type": "markdown",
      "source": [
        "### Β8. Διαχωρισμός σε train και test set (20%)"
      ]
    },
    {
      "metadata": {
        "trusted": true,
        "id": "sILaVNwSgUnf",
        "colab_type": "code",
        "outputId": "f39aca60-7f40-4467-947d-f367eb936944",
        "colab": {
          "base_uri": "https://localhost:8080/",
          "height": 34
        }
      },
      "cell_type": "code",
      "source": [
        "from sklearn.model_selection import train_test_split\n",
        "\n",
        "# KNN train, test set\n",
        "features = np.array(x.drop(['CLASS'],1))\n",
        "labels = np.array(x['CLASS'])\n",
        "\n",
        "train, test, train_labels, test_labels = train_test_split(features,labels,test_size=0.20)\n",
        "\n",
        "# Εύρεση αριθμού δειγμάτων κάθε κλάσης στο test set\n",
        "num = y.T.sum(axis=1)\n",
        "num = [num[0],num[1],num[2],num[3]]\n",
        "print(num)"
      ],
      "execution_count": 0,
      "outputs": [
        {
          "output_type": "stream",
          "text": [
            "[218, 212, 217, 199]\n"
          ],
          "name": "stdout"
        }
      ]
    },
    {
      "metadata": {
        "id": "_-6JZ2EkgUnk",
        "colab_type": "text"
      },
      "cell_type": "markdown",
      "source": [
        "***\n",
        "***\n",
        "# Γ. Baseline classification\n",
        "***\n",
        "***"
      ]
    },
    {
      "metadata": {
        "id": "coDz_ICbgUnk",
        "colab_type": "text"
      },
      "cell_type": "markdown",
      "source": [
        "## *** Γ1. Train - Test ***"
      ]
    },
    {
      "metadata": {
        "id": "mAINZogheCAU",
        "colab_type": "text"
      },
      "cell_type": "markdown",
      "source": [
        "### Δήλωση συναρτήσεων"
      ]
    },
    {
      "metadata": {
        "id": "8rJJs7fagUnm",
        "colab_type": "text"
      },
      "cell_type": "markdown",
      "source": [
        "Δημιουργούμε μια συνάρτηση, την ***mets*** που θα τυπώνει και θα επιστρέφει τις f1 micro και macro για κάθε ταξινομητή, καθώς και μία άλλη συνάρτηση, την ***conmat*** που θα δημιουργεί και θα τυπώνει το confusion matrix του κάθε ταξινομητή στη μορφή που θέλουμε, καθώς και το classification report. "
      ]
    },
    {
      "metadata": {
        "trusted": true,
        "id": "WAWchOubgUno",
        "colab_type": "code",
        "colab": {}
      },
      "cell_type": "code",
      "source": [
        "from sklearn.metrics import f1_score\n",
        "from sklearn.metrics import precision_recall_fscore_support\n",
        "from sklearn.metrics import confusion_matrix\n",
        "from sklearn.metrics import classification_report \n",
        "\n",
        "def mets(lbls,prds,name):\n",
        "    f1_micro = f1_score(lbls,prds,average='micro')\n",
        "    f1_macro = f1_score(lbls,prds,average='macro')\n",
        "    print(\"**\" + name + \" AVGS**\")\n",
        "    print(\"f1 micro avg = \" ,f1_micro)\n",
        "    print(\"f1 macro avg = \" ,f1_macro, \"\\n\")\n",
        "    return [f1_micro,f1_macro]\n",
        "  \n",
        "def conmat(lbls,prds,lb_names):\n",
        "    # Compute confusion matrix\n",
        "    cnf_matrix = confusion_matrix(lbls, prds)\n",
        "    df = pd.DataFrame(cnf_matrix)\n",
        "    df.columns = lb_names\n",
        "    df['Class'] = lb_names\n",
        "    df.set_index(\"Class\",inplace=True)\n",
        "     \n",
        "    print(classification_report(lbls, prds, target_names=lb_names))\n",
        "    return df\n",
        "       "
      ],
      "execution_count": 0,
      "outputs": []
    },
    {
      "metadata": {
        "id": "2xp1HwTQgUn3",
        "colab_type": "text"
      },
      "cell_type": "markdown",
      "source": [
        "### a) Dummy"
      ]
    },
    {
      "metadata": {
        "id": "2EWEi6L4gUn4",
        "colab_type": "text"
      },
      "cell_type": "markdown",
      "source": [
        "#### Dummy Metrics"
      ]
    },
    {
      "metadata": {
        "trusted": true,
        "id": "L7_7svqxgUn5",
        "colab_type": "code",
        "outputId": "e3d50d24-e5bc-45b7-e57f-49d0363a466b",
        "colab": {
          "base_uri": "https://localhost:8080/",
          "height": 514
        }
      },
      "cell_type": "code",
      "source": [
        "from sklearn.dummy import DummyClassifier\n",
        "import warnings\n",
        "warnings.filterwarnings(\"ignore\")\n",
        "\n",
        "dc_default = DummyClassifier()\n",
        "dc_uniform = DummyClassifier(strategy=\"uniform\")\n",
        "dc_constant_bus = DummyClassifier(strategy=\"constant\", constant='bus')\n",
        "dc_constant_opel = DummyClassifier(strategy=\"constant\", constant='opel')\n",
        "dc_constant_saab = DummyClassifier(strategy=\"constant\", constant='saab')\n",
        "dc_constant_van = DummyClassifier(strategy=\"constant\", constant='van')\n",
        "dc_most_frequent = DummyClassifier(strategy=\"most_frequent\")\n",
        "\n",
        "#με τη μέθοδο fit \"εκπαιδεύουμε\" τον ταξινομητή στο σύνολο εκπαίδευσης (τα χαρακτηριστικά και τις ετικέτες τους)\n",
        "dc_default.fit(train, train_labels)\n",
        "dc_uniform.fit(train, train_labels)\n",
        "dc_constant_bus.fit(train, train_labels)\n",
        "dc_constant_opel.fit(train, train_labels)\n",
        "dc_constant_saab.fit(train, train_labels)\n",
        "dc_constant_van.fit(train, train_labels)\n",
        "dc_most_frequent.fit(train, train_labels)\n",
        "\n",
        "#με τη μέθοδο predict παράγουμε προβλέψεις για τα δεδομένα ελέγχου (είσοδος τα χαρακτηριστικά μόνο)\n",
        "preds_default = dc_default.predict(test)\n",
        "preds_uniform = dc_uniform.predict(test)\n",
        "preds_constant_van = dc_constant_van.predict(test)\n",
        "preds_constant_opel = dc_constant_opel.predict(test)\n",
        "preds_constant_saab = dc_constant_saab.predict(test)\n",
        "preds_constant_bus = dc_constant_bus.predict(test)\n",
        "preds_most_frequent = dc_most_frequent.predict(test)\n",
        "\n",
        "# Τυπώνουμε τα AVG με την κλήση της συνάρτησης mets\n",
        "dummy_metrics_default = mets(test_labels,preds_default,\"DUMMY DEFAULT\")\n",
        "dummy_metrics_uniform = mets(test_labels,preds_uniform,\"DUMMY UNIFORM\")\n",
        "dummy_metrics_van = mets(test_labels,preds_constant_van,\"DUMMY VAN\")\n",
        "dummy_metrics_opel = mets(test_labels,preds_constant_opel,\"DUMMY OPEL\")\n",
        "dummy_metrics_saab = mets(test_labels,preds_constant_saab,\"DUMMY SAAB\")\n",
        "dummy_metrics_bus = mets(test_labels,preds_constant_bus,\"DUMMY BUS\")\n",
        "dummy_metrics_most_frequent = mets(test_labels,preds_most_frequent,\"DUMMY MOST FREQUENT\")"
      ],
      "execution_count": 0,
      "outputs": [
        {
          "output_type": "stream",
          "text": [
            "**DUMMY DEFAULT AVGS**\n",
            "f1 micro avg =  0.20588235294117646\n",
            "f1 macro avg =  0.20481934001670843 \n",
            "\n",
            "**DUMMY UNIFORM AVGS**\n",
            "f1 micro avg =  0.2235294117647059\n",
            "f1 macro avg =  0.22390030086108517 \n",
            "\n",
            "**DUMMY VAN AVGS**\n",
            "f1 micro avg =  0.2529411764705882\n",
            "f1 macro avg =  0.10093896713615023 \n",
            "\n",
            "**DUMMY OPEL AVGS**\n",
            "f1 micro avg =  0.22941176470588234\n",
            "f1 macro avg =  0.09330143540669855 \n",
            "\n",
            "**DUMMY SAAB AVGS**\n",
            "f1 micro avg =  0.2647058823529412\n",
            "f1 macro avg =  0.10465116279069768 \n",
            "\n",
            "**DUMMY BUS AVGS**\n",
            "f1 micro avg =  0.2529411764705882\n",
            "f1 macro avg =  0.10093896713615023 \n",
            "\n",
            "**DUMMY MOST FREQUENT AVGS**\n",
            "f1 micro avg =  0.2529411764705882\n",
            "f1 macro avg =  0.10093896713615023 \n",
            "\n"
          ],
          "name": "stdout"
        }
      ]
    },
    {
      "metadata": {
        "id": "0Ls1i6rdgUn-",
        "colab_type": "text"
      },
      "cell_type": "markdown",
      "source": [
        "#### Dummy Confusion Matrix"
      ]
    },
    {
      "metadata": {
        "trusted": true,
        "id": "LKZQ9ZIggUn-",
        "colab_type": "code",
        "outputId": "bce9930b-9a53-43f5-8878-9db858803902",
        "colab": {
          "base_uri": "https://localhost:8080/",
          "height": 428
        }
      },
      "cell_type": "code",
      "source": [
        "label_names = np.array(['bus','opel','saab','van'])\n",
        "print(\"Default Matrices\\n\")\n",
        "default_conmat = conmat(test_labels,preds_default,label_names)\n",
        "default_conmat"
      ],
      "execution_count": 0,
      "outputs": [
        {
          "output_type": "stream",
          "text": [
            "Default Matrices\n",
            "\n",
            "              precision    recall  f1-score   support\n",
            "\n",
            "         bus       0.24      0.21      0.22        43\n",
            "        opel       0.18      0.21      0.19        39\n",
            "        saab       0.22      0.24      0.23        45\n",
            "         van       0.19      0.16      0.18        43\n",
            "\n",
            "   micro avg       0.21      0.21      0.21       170\n",
            "   macro avg       0.21      0.21      0.20       170\n",
            "weighted avg       0.21      0.21      0.21       170\n",
            "\n"
          ],
          "name": "stdout"
        },
        {
          "output_type": "execute_result",
          "data": {
            "text/html": [
              "<div>\n",
              "<style scoped>\n",
              "    .dataframe tbody tr th:only-of-type {\n",
              "        vertical-align: middle;\n",
              "    }\n",
              "\n",
              "    .dataframe tbody tr th {\n",
              "        vertical-align: top;\n",
              "    }\n",
              "\n",
              "    .dataframe thead th {\n",
              "        text-align: right;\n",
              "    }\n",
              "</style>\n",
              "<table border=\"1\" class=\"dataframe\">\n",
              "  <thead>\n",
              "    <tr style=\"text-align: right;\">\n",
              "      <th></th>\n",
              "      <th>bus</th>\n",
              "      <th>opel</th>\n",
              "      <th>saab</th>\n",
              "      <th>van</th>\n",
              "    </tr>\n",
              "    <tr>\n",
              "      <th>Class</th>\n",
              "      <th></th>\n",
              "      <th></th>\n",
              "      <th></th>\n",
              "      <th></th>\n",
              "    </tr>\n",
              "  </thead>\n",
              "  <tbody>\n",
              "    <tr>\n",
              "      <th>bus</th>\n",
              "      <td>9</td>\n",
              "      <td>11</td>\n",
              "      <td>16</td>\n",
              "      <td>7</td>\n",
              "    </tr>\n",
              "    <tr>\n",
              "      <th>opel</th>\n",
              "      <td>6</td>\n",
              "      <td>8</td>\n",
              "      <td>13</td>\n",
              "      <td>12</td>\n",
              "    </tr>\n",
              "    <tr>\n",
              "      <th>saab</th>\n",
              "      <td>11</td>\n",
              "      <td>12</td>\n",
              "      <td>11</td>\n",
              "      <td>11</td>\n",
              "    </tr>\n",
              "    <tr>\n",
              "      <th>van</th>\n",
              "      <td>12</td>\n",
              "      <td>14</td>\n",
              "      <td>10</td>\n",
              "      <td>7</td>\n",
              "    </tr>\n",
              "  </tbody>\n",
              "</table>\n",
              "</div>"
            ],
            "text/plain": [
              "       bus  opel  saab  van\n",
              "Class                      \n",
              "bus      9    11    16    7\n",
              "opel     6     8    13   12\n",
              "saab    11    12    11   11\n",
              "van     12    14    10    7"
            ]
          },
          "metadata": {
            "tags": []
          },
          "execution_count": 9
        }
      ]
    },
    {
      "metadata": {
        "id": "c0sTGDRfQbd_",
        "colab_type": "code",
        "outputId": "8c78e87c-ebc9-440e-b814-e7fa75db9a4c",
        "colab": {
          "base_uri": "https://localhost:8080/",
          "height": 428
        }
      },
      "cell_type": "code",
      "source": [
        "print(\"Uniform Matrices\\n\")\n",
        "uniform_conmat = conmat(test_labels,preds_uniform,label_names)\n",
        "uniform_conmat"
      ],
      "execution_count": 0,
      "outputs": [
        {
          "output_type": "stream",
          "text": [
            "Uniform Matrices\n",
            "\n",
            "              precision    recall  f1-score   support\n",
            "\n",
            "         bus       0.23      0.26      0.24        43\n",
            "        opel       0.11      0.13      0.12        39\n",
            "        saab       0.28      0.24      0.26        45\n",
            "         van       0.29      0.26      0.27        43\n",
            "\n",
            "   micro avg       0.22      0.22      0.22       170\n",
            "   macro avg       0.23      0.22      0.22       170\n",
            "weighted avg       0.23      0.22      0.23       170\n",
            "\n"
          ],
          "name": "stdout"
        },
        {
          "output_type": "execute_result",
          "data": {
            "text/html": [
              "<div>\n",
              "<style scoped>\n",
              "    .dataframe tbody tr th:only-of-type {\n",
              "        vertical-align: middle;\n",
              "    }\n",
              "\n",
              "    .dataframe tbody tr th {\n",
              "        vertical-align: top;\n",
              "    }\n",
              "\n",
              "    .dataframe thead th {\n",
              "        text-align: right;\n",
              "    }\n",
              "</style>\n",
              "<table border=\"1\" class=\"dataframe\">\n",
              "  <thead>\n",
              "    <tr style=\"text-align: right;\">\n",
              "      <th></th>\n",
              "      <th>bus</th>\n",
              "      <th>opel</th>\n",
              "      <th>saab</th>\n",
              "      <th>van</th>\n",
              "    </tr>\n",
              "    <tr>\n",
              "      <th>Class</th>\n",
              "      <th></th>\n",
              "      <th></th>\n",
              "      <th></th>\n",
              "      <th></th>\n",
              "    </tr>\n",
              "  </thead>\n",
              "  <tbody>\n",
              "    <tr>\n",
              "      <th>bus</th>\n",
              "      <td>11</td>\n",
              "      <td>13</td>\n",
              "      <td>10</td>\n",
              "      <td>9</td>\n",
              "    </tr>\n",
              "    <tr>\n",
              "      <th>opel</th>\n",
              "      <td>18</td>\n",
              "      <td>5</td>\n",
              "      <td>7</td>\n",
              "      <td>9</td>\n",
              "    </tr>\n",
              "    <tr>\n",
              "      <th>saab</th>\n",
              "      <td>10</td>\n",
              "      <td>15</td>\n",
              "      <td>11</td>\n",
              "      <td>9</td>\n",
              "    </tr>\n",
              "    <tr>\n",
              "      <th>van</th>\n",
              "      <td>8</td>\n",
              "      <td>13</td>\n",
              "      <td>11</td>\n",
              "      <td>11</td>\n",
              "    </tr>\n",
              "  </tbody>\n",
              "</table>\n",
              "</div>"
            ],
            "text/plain": [
              "       bus  opel  saab  van\n",
              "Class                      \n",
              "bus     11    13    10    9\n",
              "opel    18     5     7    9\n",
              "saab    10    15    11    9\n",
              "van      8    13    11   11"
            ]
          },
          "metadata": {
            "tags": []
          },
          "execution_count": 10
        }
      ]
    },
    {
      "metadata": {
        "trusted": true,
        "id": "nWK4hehGgUoC",
        "colab_type": "code",
        "outputId": "11084c75-f352-4954-8898-f8d8ea7d4b08",
        "colab": {
          "base_uri": "https://localhost:8080/",
          "height": 428
        }
      },
      "cell_type": "code",
      "source": [
        "print(\"Constant Bus Matrices\\n\")\n",
        "bus_conmat = conmat(test_labels,preds_constant_bus,label_names)\n",
        "bus_conmat"
      ],
      "execution_count": 0,
      "outputs": [
        {
          "output_type": "stream",
          "text": [
            "Constant Bus Matrices\n",
            "\n",
            "              precision    recall  f1-score   support\n",
            "\n",
            "         bus       0.25      1.00      0.40        43\n",
            "        opel       0.00      0.00      0.00        39\n",
            "        saab       0.00      0.00      0.00        45\n",
            "         van       0.00      0.00      0.00        43\n",
            "\n",
            "   micro avg       0.25      0.25      0.25       170\n",
            "   macro avg       0.06      0.25      0.10       170\n",
            "weighted avg       0.06      0.25      0.10       170\n",
            "\n"
          ],
          "name": "stdout"
        },
        {
          "output_type": "execute_result",
          "data": {
            "text/html": [
              "<div>\n",
              "<style scoped>\n",
              "    .dataframe tbody tr th:only-of-type {\n",
              "        vertical-align: middle;\n",
              "    }\n",
              "\n",
              "    .dataframe tbody tr th {\n",
              "        vertical-align: top;\n",
              "    }\n",
              "\n",
              "    .dataframe thead th {\n",
              "        text-align: right;\n",
              "    }\n",
              "</style>\n",
              "<table border=\"1\" class=\"dataframe\">\n",
              "  <thead>\n",
              "    <tr style=\"text-align: right;\">\n",
              "      <th></th>\n",
              "      <th>bus</th>\n",
              "      <th>opel</th>\n",
              "      <th>saab</th>\n",
              "      <th>van</th>\n",
              "    </tr>\n",
              "    <tr>\n",
              "      <th>Class</th>\n",
              "      <th></th>\n",
              "      <th></th>\n",
              "      <th></th>\n",
              "      <th></th>\n",
              "    </tr>\n",
              "  </thead>\n",
              "  <tbody>\n",
              "    <tr>\n",
              "      <th>bus</th>\n",
              "      <td>43</td>\n",
              "      <td>0</td>\n",
              "      <td>0</td>\n",
              "      <td>0</td>\n",
              "    </tr>\n",
              "    <tr>\n",
              "      <th>opel</th>\n",
              "      <td>39</td>\n",
              "      <td>0</td>\n",
              "      <td>0</td>\n",
              "      <td>0</td>\n",
              "    </tr>\n",
              "    <tr>\n",
              "      <th>saab</th>\n",
              "      <td>45</td>\n",
              "      <td>0</td>\n",
              "      <td>0</td>\n",
              "      <td>0</td>\n",
              "    </tr>\n",
              "    <tr>\n",
              "      <th>van</th>\n",
              "      <td>43</td>\n",
              "      <td>0</td>\n",
              "      <td>0</td>\n",
              "      <td>0</td>\n",
              "    </tr>\n",
              "  </tbody>\n",
              "</table>\n",
              "</div>"
            ],
            "text/plain": [
              "       bus  opel  saab  van\n",
              "Class                      \n",
              "bus     43     0     0    0\n",
              "opel    39     0     0    0\n",
              "saab    45     0     0    0\n",
              "van     43     0     0    0"
            ]
          },
          "metadata": {
            "tags": []
          },
          "execution_count": 11
        }
      ]
    },
    {
      "metadata": {
        "trusted": true,
        "scrolled": true,
        "id": "xAPyHbA3gUoI",
        "colab_type": "code",
        "outputId": "c73600fc-a3bf-43b4-cf0f-5253aa7742da",
        "colab": {
          "base_uri": "https://localhost:8080/",
          "height": 428
        }
      },
      "cell_type": "code",
      "source": [
        "print(\"Constant Opel Matrices\\n\")\n",
        "opel_conmat = conmat(test_labels,preds_constant_opel,label_names)\n",
        "opel_conmat"
      ],
      "execution_count": 0,
      "outputs": [
        {
          "output_type": "stream",
          "text": [
            "Constant Opel Matrices\n",
            "\n",
            "              precision    recall  f1-score   support\n",
            "\n",
            "         bus       0.00      0.00      0.00        43\n",
            "        opel       0.23      1.00      0.37        39\n",
            "        saab       0.00      0.00      0.00        45\n",
            "         van       0.00      0.00      0.00        43\n",
            "\n",
            "   micro avg       0.23      0.23      0.23       170\n",
            "   macro avg       0.06      0.25      0.09       170\n",
            "weighted avg       0.05      0.23      0.09       170\n",
            "\n"
          ],
          "name": "stdout"
        },
        {
          "output_type": "execute_result",
          "data": {
            "text/html": [
              "<div>\n",
              "<style scoped>\n",
              "    .dataframe tbody tr th:only-of-type {\n",
              "        vertical-align: middle;\n",
              "    }\n",
              "\n",
              "    .dataframe tbody tr th {\n",
              "        vertical-align: top;\n",
              "    }\n",
              "\n",
              "    .dataframe thead th {\n",
              "        text-align: right;\n",
              "    }\n",
              "</style>\n",
              "<table border=\"1\" class=\"dataframe\">\n",
              "  <thead>\n",
              "    <tr style=\"text-align: right;\">\n",
              "      <th></th>\n",
              "      <th>bus</th>\n",
              "      <th>opel</th>\n",
              "      <th>saab</th>\n",
              "      <th>van</th>\n",
              "    </tr>\n",
              "    <tr>\n",
              "      <th>Class</th>\n",
              "      <th></th>\n",
              "      <th></th>\n",
              "      <th></th>\n",
              "      <th></th>\n",
              "    </tr>\n",
              "  </thead>\n",
              "  <tbody>\n",
              "    <tr>\n",
              "      <th>bus</th>\n",
              "      <td>0</td>\n",
              "      <td>43</td>\n",
              "      <td>0</td>\n",
              "      <td>0</td>\n",
              "    </tr>\n",
              "    <tr>\n",
              "      <th>opel</th>\n",
              "      <td>0</td>\n",
              "      <td>39</td>\n",
              "      <td>0</td>\n",
              "      <td>0</td>\n",
              "    </tr>\n",
              "    <tr>\n",
              "      <th>saab</th>\n",
              "      <td>0</td>\n",
              "      <td>45</td>\n",
              "      <td>0</td>\n",
              "      <td>0</td>\n",
              "    </tr>\n",
              "    <tr>\n",
              "      <th>van</th>\n",
              "      <td>0</td>\n",
              "      <td>43</td>\n",
              "      <td>0</td>\n",
              "      <td>0</td>\n",
              "    </tr>\n",
              "  </tbody>\n",
              "</table>\n",
              "</div>"
            ],
            "text/plain": [
              "       bus  opel  saab  van\n",
              "Class                      \n",
              "bus      0    43     0    0\n",
              "opel     0    39     0    0\n",
              "saab     0    45     0    0\n",
              "van      0    43     0    0"
            ]
          },
          "metadata": {
            "tags": []
          },
          "execution_count": 12
        }
      ]
    },
    {
      "metadata": {
        "trusted": true,
        "id": "ujgAS6I5gUoN",
        "colab_type": "code",
        "outputId": "ea119613-2478-4fbf-ac6e-a6390d95167e",
        "colab": {
          "base_uri": "https://localhost:8080/",
          "height": 428
        }
      },
      "cell_type": "code",
      "source": [
        "print(\"Constant Saab Matrices\\n\")\n",
        "saab_conmat = conmat(test_labels,preds_constant_saab,label_names)\n",
        "saab_conmat"
      ],
      "execution_count": 0,
      "outputs": [
        {
          "output_type": "stream",
          "text": [
            "Constant Saab Matrices\n",
            "\n",
            "              precision    recall  f1-score   support\n",
            "\n",
            "         bus       0.00      0.00      0.00        43\n",
            "        opel       0.00      0.00      0.00        39\n",
            "        saab       0.26      1.00      0.42        45\n",
            "         van       0.00      0.00      0.00        43\n",
            "\n",
            "   micro avg       0.26      0.26      0.26       170\n",
            "   macro avg       0.07      0.25      0.10       170\n",
            "weighted avg       0.07      0.26      0.11       170\n",
            "\n"
          ],
          "name": "stdout"
        },
        {
          "output_type": "execute_result",
          "data": {
            "text/html": [
              "<div>\n",
              "<style scoped>\n",
              "    .dataframe tbody tr th:only-of-type {\n",
              "        vertical-align: middle;\n",
              "    }\n",
              "\n",
              "    .dataframe tbody tr th {\n",
              "        vertical-align: top;\n",
              "    }\n",
              "\n",
              "    .dataframe thead th {\n",
              "        text-align: right;\n",
              "    }\n",
              "</style>\n",
              "<table border=\"1\" class=\"dataframe\">\n",
              "  <thead>\n",
              "    <tr style=\"text-align: right;\">\n",
              "      <th></th>\n",
              "      <th>bus</th>\n",
              "      <th>opel</th>\n",
              "      <th>saab</th>\n",
              "      <th>van</th>\n",
              "    </tr>\n",
              "    <tr>\n",
              "      <th>Class</th>\n",
              "      <th></th>\n",
              "      <th></th>\n",
              "      <th></th>\n",
              "      <th></th>\n",
              "    </tr>\n",
              "  </thead>\n",
              "  <tbody>\n",
              "    <tr>\n",
              "      <th>bus</th>\n",
              "      <td>0</td>\n",
              "      <td>0</td>\n",
              "      <td>43</td>\n",
              "      <td>0</td>\n",
              "    </tr>\n",
              "    <tr>\n",
              "      <th>opel</th>\n",
              "      <td>0</td>\n",
              "      <td>0</td>\n",
              "      <td>39</td>\n",
              "      <td>0</td>\n",
              "    </tr>\n",
              "    <tr>\n",
              "      <th>saab</th>\n",
              "      <td>0</td>\n",
              "      <td>0</td>\n",
              "      <td>45</td>\n",
              "      <td>0</td>\n",
              "    </tr>\n",
              "    <tr>\n",
              "      <th>van</th>\n",
              "      <td>0</td>\n",
              "      <td>0</td>\n",
              "      <td>43</td>\n",
              "      <td>0</td>\n",
              "    </tr>\n",
              "  </tbody>\n",
              "</table>\n",
              "</div>"
            ],
            "text/plain": [
              "       bus  opel  saab  van\n",
              "Class                      \n",
              "bus      0     0    43    0\n",
              "opel     0     0    39    0\n",
              "saab     0     0    45    0\n",
              "van      0     0    43    0"
            ]
          },
          "metadata": {
            "tags": []
          },
          "execution_count": 13
        }
      ]
    },
    {
      "metadata": {
        "trusted": true,
        "id": "HqUInREugUoQ",
        "colab_type": "code",
        "outputId": "0796cb5d-7d9b-4f26-ce32-fe7660c44bf0",
        "colab": {
          "base_uri": "https://localhost:8080/",
          "height": 428
        }
      },
      "cell_type": "code",
      "source": [
        "print(\"Constant Van Matrices\\n\")\n",
        "van_conmat = conmat(test_labels,preds_constant_van,label_names)\n",
        "van_conmat"
      ],
      "execution_count": 0,
      "outputs": [
        {
          "output_type": "stream",
          "text": [
            "Constant Van Matrices\n",
            "\n",
            "              precision    recall  f1-score   support\n",
            "\n",
            "         bus       0.00      0.00      0.00        43\n",
            "        opel       0.00      0.00      0.00        39\n",
            "        saab       0.00      0.00      0.00        45\n",
            "         van       0.25      1.00      0.40        43\n",
            "\n",
            "   micro avg       0.25      0.25      0.25       170\n",
            "   macro avg       0.06      0.25      0.10       170\n",
            "weighted avg       0.06      0.25      0.10       170\n",
            "\n"
          ],
          "name": "stdout"
        },
        {
          "output_type": "execute_result",
          "data": {
            "text/html": [
              "<div>\n",
              "<style scoped>\n",
              "    .dataframe tbody tr th:only-of-type {\n",
              "        vertical-align: middle;\n",
              "    }\n",
              "\n",
              "    .dataframe tbody tr th {\n",
              "        vertical-align: top;\n",
              "    }\n",
              "\n",
              "    .dataframe thead th {\n",
              "        text-align: right;\n",
              "    }\n",
              "</style>\n",
              "<table border=\"1\" class=\"dataframe\">\n",
              "  <thead>\n",
              "    <tr style=\"text-align: right;\">\n",
              "      <th></th>\n",
              "      <th>bus</th>\n",
              "      <th>opel</th>\n",
              "      <th>saab</th>\n",
              "      <th>van</th>\n",
              "    </tr>\n",
              "    <tr>\n",
              "      <th>Class</th>\n",
              "      <th></th>\n",
              "      <th></th>\n",
              "      <th></th>\n",
              "      <th></th>\n",
              "    </tr>\n",
              "  </thead>\n",
              "  <tbody>\n",
              "    <tr>\n",
              "      <th>bus</th>\n",
              "      <td>0</td>\n",
              "      <td>0</td>\n",
              "      <td>0</td>\n",
              "      <td>43</td>\n",
              "    </tr>\n",
              "    <tr>\n",
              "      <th>opel</th>\n",
              "      <td>0</td>\n",
              "      <td>0</td>\n",
              "      <td>0</td>\n",
              "      <td>39</td>\n",
              "    </tr>\n",
              "    <tr>\n",
              "      <th>saab</th>\n",
              "      <td>0</td>\n",
              "      <td>0</td>\n",
              "      <td>0</td>\n",
              "      <td>45</td>\n",
              "    </tr>\n",
              "    <tr>\n",
              "      <th>van</th>\n",
              "      <td>0</td>\n",
              "      <td>0</td>\n",
              "      <td>0</td>\n",
              "      <td>43</td>\n",
              "    </tr>\n",
              "  </tbody>\n",
              "</table>\n",
              "</div>"
            ],
            "text/plain": [
              "       bus  opel  saab  van\n",
              "Class                      \n",
              "bus      0     0     0   43\n",
              "opel     0     0     0   39\n",
              "saab     0     0     0   45\n",
              "van      0     0     0   43"
            ]
          },
          "metadata": {
            "tags": []
          },
          "execution_count": 14
        }
      ]
    },
    {
      "metadata": {
        "id": "9HcqbgkTQkOH",
        "colab_type": "code",
        "outputId": "18d91a7f-4e7d-48c8-939c-8a3d2f1ca902",
        "colab": {
          "base_uri": "https://localhost:8080/",
          "height": 428
        }
      },
      "cell_type": "code",
      "source": [
        "print(\"Most Frequent Matrices\\n\")\n",
        "most_frequent_conmat = conmat(test_labels,preds_most_frequent,label_names)\n",
        "most_frequent_conmat"
      ],
      "execution_count": 0,
      "outputs": [
        {
          "output_type": "stream",
          "text": [
            "Most Frequent Matrices\n",
            "\n",
            "              precision    recall  f1-score   support\n",
            "\n",
            "         bus       0.25      1.00      0.40        43\n",
            "        opel       0.00      0.00      0.00        39\n",
            "        saab       0.00      0.00      0.00        45\n",
            "         van       0.00      0.00      0.00        43\n",
            "\n",
            "   micro avg       0.25      0.25      0.25       170\n",
            "   macro avg       0.06      0.25      0.10       170\n",
            "weighted avg       0.06      0.25      0.10       170\n",
            "\n"
          ],
          "name": "stdout"
        },
        {
          "output_type": "execute_result",
          "data": {
            "text/html": [
              "<div>\n",
              "<style scoped>\n",
              "    .dataframe tbody tr th:only-of-type {\n",
              "        vertical-align: middle;\n",
              "    }\n",
              "\n",
              "    .dataframe tbody tr th {\n",
              "        vertical-align: top;\n",
              "    }\n",
              "\n",
              "    .dataframe thead th {\n",
              "        text-align: right;\n",
              "    }\n",
              "</style>\n",
              "<table border=\"1\" class=\"dataframe\">\n",
              "  <thead>\n",
              "    <tr style=\"text-align: right;\">\n",
              "      <th></th>\n",
              "      <th>bus</th>\n",
              "      <th>opel</th>\n",
              "      <th>saab</th>\n",
              "      <th>van</th>\n",
              "    </tr>\n",
              "    <tr>\n",
              "      <th>Class</th>\n",
              "      <th></th>\n",
              "      <th></th>\n",
              "      <th></th>\n",
              "      <th></th>\n",
              "    </tr>\n",
              "  </thead>\n",
              "  <tbody>\n",
              "    <tr>\n",
              "      <th>bus</th>\n",
              "      <td>43</td>\n",
              "      <td>0</td>\n",
              "      <td>0</td>\n",
              "      <td>0</td>\n",
              "    </tr>\n",
              "    <tr>\n",
              "      <th>opel</th>\n",
              "      <td>39</td>\n",
              "      <td>0</td>\n",
              "      <td>0</td>\n",
              "      <td>0</td>\n",
              "    </tr>\n",
              "    <tr>\n",
              "      <th>saab</th>\n",
              "      <td>45</td>\n",
              "      <td>0</td>\n",
              "      <td>0</td>\n",
              "      <td>0</td>\n",
              "    </tr>\n",
              "    <tr>\n",
              "      <th>van</th>\n",
              "      <td>43</td>\n",
              "      <td>0</td>\n",
              "      <td>0</td>\n",
              "      <td>0</td>\n",
              "    </tr>\n",
              "  </tbody>\n",
              "</table>\n",
              "</div>"
            ],
            "text/plain": [
              "       bus  opel  saab  van\n",
              "Class                      \n",
              "bus     43     0     0    0\n",
              "opel    39     0     0    0\n",
              "saab    45     0     0    0\n",
              "van     43     0     0    0"
            ]
          },
          "metadata": {
            "tags": []
          },
          "execution_count": 15
        }
      ]
    },
    {
      "metadata": {
        "id": "jXkLe7ZigUoU",
        "colab_type": "text"
      },
      "cell_type": "markdown",
      "source": [
        "### b) kNN"
      ]
    },
    {
      "metadata": {
        "id": "8WEj2sWEgUoU",
        "colab_type": "text"
      },
      "cell_type": "markdown",
      "source": [
        "#### kNN Metrics"
      ]
    },
    {
      "metadata": {
        "trusted": true,
        "id": "zpoVT1uFgUoW",
        "colab_type": "code",
        "outputId": "00b87a7e-7545-47ae-ee56-c325dfb1c8ea",
        "colab": {
          "base_uri": "https://localhost:8080/",
          "height": 87
        }
      },
      "cell_type": "code",
      "source": [
        "from sklearn.neighbors import KNeighborsClassifier\n",
        "\n",
        "knn = KNeighborsClassifier()\n",
        "knn.fit(train,train_labels)\n",
        "\n",
        "preds = knn.predict(test)\n",
        "\n",
        "knn_metrics = mets(test_labels,preds,\"kNN\")"
      ],
      "execution_count": 0,
      "outputs": [
        {
          "output_type": "stream",
          "text": [
            "**kNN AVGS**\n",
            "f1 micro avg =  0.6235294117647059\n",
            "f1 macro avg =  0.6196590266966766 \n",
            "\n"
          ],
          "name": "stdout"
        }
      ]
    },
    {
      "metadata": {
        "id": "LDaZBVJDgUoa",
        "colab_type": "text"
      },
      "cell_type": "markdown",
      "source": [
        "#### kNN Confusion Matrix"
      ]
    },
    {
      "metadata": {
        "trusted": true,
        "id": "suMNNGR0gUob",
        "colab_type": "code",
        "outputId": "2bb4bf0a-751a-4fd4-a6a0-d84ecfde6975",
        "colab": {
          "base_uri": "https://localhost:8080/",
          "height": 428
        }
      },
      "cell_type": "code",
      "source": [
        "label_names = np.array(['bus','opel','saab','van'])\n",
        "\n",
        "print(\"kNN Matrices\\n\")\n",
        "knn_conmat = conmat(test_labels,preds,label_names)\n",
        "knn_conmat"
      ],
      "execution_count": 0,
      "outputs": [
        {
          "output_type": "stream",
          "text": [
            "kNN Matrices\n",
            "\n",
            "              precision    recall  f1-score   support\n",
            "\n",
            "         bus       0.81      0.81      0.81        43\n",
            "        opel       0.45      0.46      0.46        39\n",
            "        saab       0.40      0.38      0.39        45\n",
            "         van       0.80      0.84      0.82        43\n",
            "\n",
            "   micro avg       0.62      0.62      0.62       170\n",
            "   macro avg       0.62      0.62      0.62       170\n",
            "weighted avg       0.62      0.62      0.62       170\n",
            "\n"
          ],
          "name": "stdout"
        },
        {
          "output_type": "execute_result",
          "data": {
            "text/html": [
              "<div>\n",
              "<style scoped>\n",
              "    .dataframe tbody tr th:only-of-type {\n",
              "        vertical-align: middle;\n",
              "    }\n",
              "\n",
              "    .dataframe tbody tr th {\n",
              "        vertical-align: top;\n",
              "    }\n",
              "\n",
              "    .dataframe thead th {\n",
              "        text-align: right;\n",
              "    }\n",
              "</style>\n",
              "<table border=\"1\" class=\"dataframe\">\n",
              "  <thead>\n",
              "    <tr style=\"text-align: right;\">\n",
              "      <th></th>\n",
              "      <th>bus</th>\n",
              "      <th>opel</th>\n",
              "      <th>saab</th>\n",
              "      <th>van</th>\n",
              "    </tr>\n",
              "    <tr>\n",
              "      <th>Class</th>\n",
              "      <th></th>\n",
              "      <th></th>\n",
              "      <th></th>\n",
              "      <th></th>\n",
              "    </tr>\n",
              "  </thead>\n",
              "  <tbody>\n",
              "    <tr>\n",
              "      <th>bus</th>\n",
              "      <td>35</td>\n",
              "      <td>1</td>\n",
              "      <td>7</td>\n",
              "      <td>0</td>\n",
              "    </tr>\n",
              "    <tr>\n",
              "      <th>opel</th>\n",
              "      <td>2</td>\n",
              "      <td>18</td>\n",
              "      <td>14</td>\n",
              "      <td>5</td>\n",
              "    </tr>\n",
              "    <tr>\n",
              "      <th>saab</th>\n",
              "      <td>3</td>\n",
              "      <td>21</td>\n",
              "      <td>17</td>\n",
              "      <td>4</td>\n",
              "    </tr>\n",
              "    <tr>\n",
              "      <th>van</th>\n",
              "      <td>3</td>\n",
              "      <td>0</td>\n",
              "      <td>4</td>\n",
              "      <td>36</td>\n",
              "    </tr>\n",
              "  </tbody>\n",
              "</table>\n",
              "</div>"
            ],
            "text/plain": [
              "       bus  opel  saab  van\n",
              "Class                      \n",
              "bus     35     1     7    0\n",
              "opel     2    18    14    5\n",
              "saab     3    21    17    4\n",
              "van      3     0     4   36"
            ]
          },
          "metadata": {
            "tags": []
          },
          "execution_count": 17
        }
      ]
    },
    {
      "metadata": {
        "id": "jk4zTzpTgUoi",
        "colab_type": "text"
      },
      "cell_type": "markdown",
      "source": [
        "## *** Γ2. Bar Plot ***"
      ]
    },
    {
      "metadata": {
        "trusted": true,
        "scrolled": true,
        "id": "pZgQGPdegUoj",
        "colab_type": "code",
        "outputId": "186730eb-0228-47be-b5de-36d8e174d312",
        "colab": {
          "base_uri": "https://localhost:8080/",
          "height": 378
        }
      },
      "cell_type": "code",
      "source": [
        "from matplotlib import pyplot as plt\n",
        "\n",
        "x_axis = ['F1 Micro','F1 Macro']\n",
        "\n",
        "ind = np.arange(len(x_axis))\n",
        "\n",
        "plt.xticks(ind,x_axis)\n",
        "\n",
        "plt.title(\"Classifier Metrics\")\n",
        "plt.bar(ind-0.48,knn_metrics,width=0.12,label=\"KNN\") \n",
        "plt.bar(ind-0.36,dummy_metrics_default,width=0.12,label=\"Default\")\n",
        "plt.bar(ind-0.24,dummy_metrics_uniform,width=0.12,label=\"Uniform\") \n",
        "plt.bar(ind-0.12,dummy_metrics_bus,width=0.12,label=\"Bus Const\") \n",
        "plt.bar(ind,dummy_metrics_opel,width=0.12,label=\"Opel Const\")\n",
        "plt.bar(ind+0.12,dummy_metrics_saab,width=0.12,label=\"Saab Const\") \n",
        "plt.bar(ind+0.24,dummy_metrics_van,width=0.12,label=\"Van Const\")\n",
        "plt.bar(ind+0.36,dummy_metrics_most_frequent,width=0.12,label=\"Most Frequent\")\n",
        "plt.legend()"
      ],
      "execution_count": 0,
      "outputs": [
        {
          "output_type": "execute_result",
          "data": {
            "text/plain": [
              "<matplotlib.legend.Legend at 0x7fa5714d2898>"
            ]
          },
          "metadata": {
            "tags": []
          },
          "execution_count": 18
        },
        {
          "output_type": "display_data",
          "data": {
            "image/png": "[encoded data removed]",
            "text/plain": [
              "<matplotlib.figure.Figure at 0x7fa571563ef0>"
            ]
          },
          "metadata": {
            "tags": []
          }
        }
      ]
    },
    {
      "metadata": {
        "id": "OXQFzbWWgUop",
        "colab_type": "text"
      },
      "cell_type": "markdown",
      "source": [
        "## *** Γ3. Σχολιασμός των αποτελεσμάτων ***"
      ]
    },
    {
      "metadata": {
        "id": "Ta2keZkCgUor",
        "colab_type": "text"
      },
      "cell_type": "markdown",
      "source": [
        "Αρχικά παρατηρούμε απο το bar plot πως ο ΚΝΝ δινει τα καλύτερα f1_micro και f1_macro και μάλιστα με τεράστια διαφορά. Συγκεντρωτικά κοιτώντας τα confusion matrices αλλα και το bar plot, μπορούσαμε να υποθέσουμε από την αρχή κιόλας ότι τα ποσοστά των constant dummies και του most_frequent θα ήταν πάρα πολύ χαμηλά αφου το δείγμα μας είναι εξισορροπημένο, οπότε και η υπόθεση ότι κάποια κλαση ήταν κυρίαρχη δε μας έδωσε επιθυμητά αποτελέσματα, αλλά αναμενόμενα. Παρόλο που τα f1_micro, f1_macro ήταν χαμηλά, παρατηρούμε πως και το precision είναι πολύ χαμηλό σε όλα τα constant. Αυτο πρακτικά σημαίνει πως ακόμα και με την υπόθεση ότι υπήρχε κυρίαρχη κλάση, ο dummy classifier \"πέτυχε\" πολύ λίγα. \n",
        "\n",
        "Τελικά λοιπόν η χρήση του ΚΝΝ υπερτερεί αδιαμφισβήτητα στη βελτιστοποίηση της classification."
      ]
    },
    {
      "metadata": {
        "id": "tc0tms6sgUos",
        "colab_type": "text"
      },
      "cell_type": "markdown",
      "source": [
        "***\n",
        "***\n",
        "# Δ. Βελτιστοποίηση Ταξινομητών\n",
        "***\n",
        "***"
      ]
    },
    {
      "metadata": {
        "id": "5v7UHFh5pYHG",
        "colab_type": "text"
      },
      "cell_type": "markdown",
      "source": [
        "## Δ1. Βελτιστοποίηση ταξινομητή kNN"
      ]
    },
    {
      "metadata": {
        "id": "06F5Uq_vgdOB",
        "colab_type": "text"
      },
      "cell_type": "markdown",
      "source": [
        "### Επιλογή Variance Threshhold\n",
        "\n",
        "Κληθήκαμε να επιλέξουμε τιμές για το variance threshhold. Αφού υπολογίσαμε το μέγιστο variance να είναι ίσο με περίπου 35000 αποφασίσαμε να δημιουργήσουμε τον πίνακα [0,10000,20000,30000]. Έπειτα από το τρέξιμο του pipe παρατηρήσαμε πως τα βέλτιστα αποτελέσματα ήταν για την τιμή 0 οπότε και αρχίσαμε να μετατοπίζουμε τις τιμές του πίνακα πίνακα σταδιακά προς αυτήν (progressive grid search) μέχρι που φτάσαμε στον τελικό [0,0.001,0.0002,0.0003]. Οπότε σταματήσαμε εκεί αφού πάλι το αποτέλεσμα έβγαινε 0. \n",
        "\n",
        "Όταν το δείγμα μας έγινε scaled ξαναυπολογίσαμε το μέγιστο variance και αυτό έβγαινε περίπου 0.06. Ξεκινώντας λοιπόν πάλι με έναν πίνακα [0,0.02,0.004,0.005] καταλήγαμε σε βέλτιστη τιμή το 0. Μειώνοντας 1 τάξη μεγέθους στον πίνακα καταλήξαμε στον τελικό [0,0.0001,0.0002,0.0003,0.0004,0.0005]  κατά τον οποίον τα βέλτιστα αποτελέσματα ίσχυαν είτε για την τιμή 0 είτε για κάποια ενδιάμεση τιμή. Δοκιμάσαμε να τον μειώσουμε κι άλλο άλλα μετά έδιναν όλα 0"
      ]
    },
    {
      "metadata": {
        "trusted": true,
        "id": "NjeqgagcgUo1",
        "colab_type": "code",
        "outputId": "9ec35473-3c49-4be5-f64e-22284d1e995b",
        "colab": {
          "base_uri": "https://localhost:8080/",
          "height": 34
        }
      },
      "cell_type": "code",
      "source": [
        "# Ευρεση της variance \n",
        "train_variance = train.var(axis=0)\n",
        "print(np.max(train_variance))"
      ],
      "execution_count": 0,
      "outputs": [
        {
          "output_type": "stream",
          "text": [
            "30932.939784583934\n"
          ],
          "name": "stdout"
        }
      ]
    },
    {
      "metadata": {
        "trusted": true,
        "id": "ZHqMftPtgUpA",
        "colab_type": "code",
        "outputId": "293521f8-fccf-4b2e-e746-4a9ca1944cf7",
        "colab": {
          "base_uri": "https://localhost:8080/",
          "height": 34
        }
      },
      "cell_type": "code",
      "source": [
        "# Ευρεση της νέας variance \n",
        "from sklearn import preprocessing\n",
        "min_max_scaler = preprocessing.MinMaxScaler()\n",
        "train_minmax = min_max_scaler.fit_transform(train)\n",
        "\n",
        "train_variance = train_minmax.var(axis=0)\n",
        "print(np.max(train_variance))\n"
      ],
      "execution_count": 0,
      "outputs": [
        {
          "output_type": "stream",
          "text": [
            "0.06234191729981446\n"
          ],
          "name": "stdout"
        }
      ]
    },
    {
      "metadata": {
        "id": "pmToR2vZkMxM",
        "colab_type": "text"
      },
      "cell_type": "markdown",
      "source": [
        "### Δομή κώδικα\n",
        "\n",
        "Μέσα σε 1 for δημιουργούμε μια πεντάδα αριθμών χαρακτηριστική για τον αριθμό του Κ, του Threshhold(-1 αν δεν υπάρχει), του αριθμού των components του PCA(-1 αν δεν υπάρχει) και 1 αν το συγκεκριμένο pipe έχει minmax scaler η -1 αν όχι.\n",
        "\n",
        "Έτσι διαβάζοντας αυτή την πεντάδα αριθμών μπορούμε να αποφανθούμε για τα βέλτιστα στάδια pipeline που αντιστοιχούν στην βέλτιστη τιμή των f1_micro,f1_macro του train\n",
        "\n",
        "Ορίζουμε :\n",
        "- Pipe 1 : kNN\n",
        "- Pipe 2 : kNN + PCA\n",
        "- Pipe 3 : kNN + Scaler\n",
        "- Pipe 4 : kNN + Scaler + PCA\n",
        "- Pipe 5 : kNN + Threshhold\n",
        "- Pipe 6 : kNN + Threshhold + PCA\n",
        "- Pipe 7 : kNN + Scaler + Threshhold\n",
        "- Pipe 8 : kNN + Scaler + Threshhold + PCA"
      ]
    },
    {
      "metadata": {
        "id": "Rz4J63plXRUd",
        "colab_type": "text"
      },
      "cell_type": "markdown",
      "source": [
        "**Δε θα χρησιμοποιήσουμε καθόλου ROS αφού το δείγμα μας είναι εξισορροπημένο**"
      ]
    },
    {
      "metadata": {
        "id": "MLU1ERLwJp0g",
        "colab_type": "code",
        "colab": {}
      },
      "cell_type": "code",
      "source": [
        "from sklearn.model_selection import cross_val_score\n",
        "import time\n",
        "from sklearn.feature_selection import VarianceThreshold\n",
        "from sklearn import preprocessing\n",
        "from imblearn.over_sampling import RandomOverSampler\n",
        "from sklearn.decomposition import PCA\n",
        "\n",
        "mics = []\n",
        "macs = []\n",
        "\n",
        "# Εδώ δημιουργούμε μια λίστα result στην οποία κρατάμε τις τιμές των υπερπαραμέτρων σε κάθε εκτέλεση\n",
        "# Μπορούμε έτσι μετά να βρούμε το index της max τιμής μιας μετρικής και δίνοντάς το στη λίστα να πάρουμε τις βέλτιστες υπερπαραμέτρους.\n",
        "neighbors = [1,3,5,7,9,11,13]\n",
        "v_threshhold = [0,0.001,0.002,0.003]\n",
        "result = []\n",
        "pipe = range (1,9)\n",
        "\n",
        "start_time = time.time()\n",
        "\n",
        "for p in pipe:\n",
        "  for k in neighbors:\n",
        "      knn = KNeighborsClassifier(n_neighbors=k)\n",
        "      # kNN\n",
        "      if p == 1:\n",
        "        micro_scores = cross_val_score(knn, train, train_labels, cv=10, scoring='f1_micro')\n",
        "        macro_scores = cross_val_score(knn, train, train_labels, cv=10, scoring='f1_macro')\n",
        "        mics.append(micro_scores.mean())\n",
        "        macs.append(macro_scores.mean())\n",
        "        result.append([k,-1,-1,1,-1])\n",
        "      elif p == 2:\n",
        "        # kNN + PCA\n",
        "        for n in range(1,train.shape[1]+1):\n",
        "            pca = PCA(n_components=n)\n",
        "            trainPCA = pca.fit_transform(train)\n",
        "            micro_scores = cross_val_score(knn, trainPCA, train_labels, cv=10, scoring='f1_micro')\n",
        "            macro_scores = cross_val_score(knn, trainPCA, train_labels, cv=10, scoring='f1_macro')\n",
        "            mics.append(micro_scores.mean())\n",
        "            macs.append(macro_scores.mean())\n",
        "            result.append([k,-1,n,2,-1])\n",
        "      else:\n",
        "        min_max_scaler = preprocessing.MinMaxScaler()\n",
        "        train_minmax = min_max_scaler.fit_transform(train)\n",
        "        \n",
        "        # kNN + Scaler\n",
        "        if p == 3:\n",
        "          micro_scores = cross_val_score(knn, train_minmax, train_labels, cv=10, scoring='f1_micro')\n",
        "          macro_scores = cross_val_score(knn, train_minmax, train_labels, cv=10, scoring='f1_macro')\n",
        "          mics.append(micro_scores.mean())\n",
        "          macs.append(macro_scores.mean())\n",
        "          result.append([k,-1,-1,3,1])\n",
        "              \n",
        "        # kNN + Scaler + PCA\n",
        "        elif p == 4:\n",
        "          for n in range(1,train_minmax.shape[1]+1):\n",
        "              pca = PCA(n_components=n)\n",
        "              trainPCA = pca.fit_transform(train_minmax)\n",
        "              micro_scores = cross_val_score(knn, trainPCA, train_labels, cv=10, scoring='f1_micro')\n",
        "              macro_scores = cross_val_score(knn, trainPCA, train_labels, cv=10, scoring='f1_macro')\n",
        "              mics.append(micro_scores.mean())\n",
        "              macs.append(macro_scores.mean())\n",
        "              result.append([k,-1,n,4,1])\n",
        "        else:\n",
        "          for v in v_threshhold:\n",
        "            selector = VarianceThreshold(v)\n",
        "            if p > 6:\n",
        "              train_reduced = selector.fit_transform(train_minmax)\n",
        "              s = 1\n",
        "            else:  \n",
        "              train_reduced = selector.fit_transform(train)\n",
        "              s = -1\n",
        "\n",
        "            # Εδώ έχουμε την περίπτωση που έχω είτε kNN + scaler + threshhold(p=7,p=8) είτε kNN + threshhold(p=5,p=6)\n",
        "            micro_scores = cross_val_score(knn, train_reduced, train_labels, cv=10, scoring='f1_micro')\n",
        "            macro_scores = cross_val_score(knn, train_reduced, train_labels, cv=10, scoring='f1_macro')\n",
        "            mics.append(micro_scores.mean())\n",
        "            macs.append(macro_scores.mean())\n",
        "            result.append([k,v,-1,p,s])\n",
        "            # Εδώ έχουμε την περίτωση που έχω είτε  kΝΝ + scaler + threshhold + PCA είτε kΝΝ + threshhold + PCA(p=6,p=8)\n",
        "            # Ο PCA θέλουμε να τρέξει μόνο για τα συγκεκριμένα pipes\n",
        "            if p == 6 or p == 8:\n",
        "              for n in range(1,train_reduced.shape[1]+1):\n",
        "                pca = PCA(n_components=n)\n",
        "                trainPCA = pca.fit_transform(train_reduced)\n",
        "                micro_scores = cross_val_score(knn, trainPCA, train_labels, cv=10, scoring='f1_micro')\n",
        "                macro_scores = cross_val_score(knn, trainPCA, train_labels, cv=10, scoring='f1_macro')\n",
        "                mics.append(micro_scores.mean())\n",
        "                macs.append(macro_scores.mean())\n",
        "                result.append([k,v,n,p,s])\n",
        "\n",
        "cv_time = time.time() - start_time"
      ],
      "execution_count": 0,
      "outputs": []
    },
    {
      "metadata": {
        "id": "HBBTWVbLsqli",
        "colab_type": "text"
      },
      "cell_type": "markdown",
      "source": [
        "### Εύρεση βέλτιστου Pipeline"
      ]
    },
    {
      "metadata": {
        "id": "rPm2rcFxCmp_",
        "colab_type": "code",
        "outputId": "f07391d8-1f42-446a-c1c1-d82764d876da",
        "colab": {
          "base_uri": "https://localhost:8080/",
          "height": 52
        }
      },
      "cell_type": "code",
      "source": [
        "micro_place = mics.index(max(mics))\n",
        "macro_place = macs.index(max(macs))\n",
        "mic = result[micro_place]\n",
        "mac = result[macro_place]\n",
        "\n",
        "print('Optimum Pipeline for f1-micro is PIPE',mic[3], ', for k_neighbours =',mic[0],'v_threshold =',mic[1],'PCA',mic[2],'and Minmax =',mic[4])\n",
        "print('Optimum Pipeline for f1-macro is PIPE',mac[3], ', for k_neighbours =',mac[0],'v_threshold =',mac[1],'PCA',mac[2],'and Minmax =',mac[4])\n"
      ],
      "execution_count": 0,
      "outputs": [
        {
          "output_type": "stream",
          "text": [
            "Optimum Pipeline for f1-micro is PIPE 3 , for k_neighbours = 7 v_threshold = -1 PCA -1 and Minmax = 1\n",
            "Optimum Pipeline for f1-macro is PIPE 4 , for k_neighbours = 1 v_threshold = -1 PCA 13 and Minmax = 1\n"
          ],
          "name": "stdout"
        }
      ]
    },
    {
      "metadata": {
        "id": "y4YdcWZAmMNA",
        "colab_type": "text"
      },
      "cell_type": "markdown",
      "source": [
        "** Τώρα, έχοντας βρεί το βέλτιστο pipeline θα πάμε να υπολογίσουμε τα f1_micro,f1_macro για το test  **"
      ]
    },
    {
      "metadata": {
        "id": "g9-waq_AmcVl",
        "colab_type": "code",
        "outputId": "ac3ac882-31ea-464c-e8f2-71f380799f08",
        "colab": {
          "base_uri": "https://localhost:8080/",
          "height": 123
        }
      },
      "cell_type": "code",
      "source": [
        "# Best Micro\n",
        "start_time = time.time()\n",
        "knn = KNeighborsClassifier(n_neighbors=mic[0])\n",
        "\n",
        "min_max_scaler = preprocessing.MinMaxScaler()\n",
        "train_minmax = min_max_scaler.fit_transform(train)\n",
        "test_minmax = min_max_scaler.transform(test)\n",
        "\n",
        "knn.fit(train_minmax,train_labels)\n",
        "preds_micro = knn.predict(test_minmax)\n",
        "fp1_time = time.time() - start_time\n",
        "f1_micro = f1_score(test_labels,preds_micro,average='micro')\n",
        "print(\"** Pipe 3 AVG Micro**\")\n",
        "print(\"f1 micro avg = \" ,f1_micro, \"\\n\")\n",
        "\n",
        "\n",
        "# Best macro\n",
        "start_time = time.time()\n",
        "knn = KNeighborsClassifier(n_neighbors=mac[0])\n",
        "\n",
        "min_max_scaler = preprocessing.MinMaxScaler()\n",
        "train_minmax = min_max_scaler.fit_transform(train)\n",
        "test_minmax = min_max_scaler.transform(test)\n",
        "\n",
        "pca = PCA(n_components=mac[2])\n",
        "trainPCA = pca.fit_transform(train_minmax)\n",
        "testPCA = pca.transform(test_minmax)\n",
        "\n",
        "knn.fit(trainPCA,train_labels)\n",
        "preds_macro = knn.predict(testPCA)\n",
        "fp2_time = time.time() - start_time\n",
        "f1_macro = f1_score(test_labels,preds_macro,average='macro')\n",
        "print(\"** Pipe 4 AVG Macro**\")\n",
        "print(\"f1 macro avg = \" ,f1_macro, \"\\n\")\n"
      ],
      "execution_count": 0,
      "outputs": [
        {
          "output_type": "stream",
          "text": [
            "** Pipe 3 AVG Micro**\n",
            "f1 micro avg =  0.6705882352941176 \n",
            "\n",
            "** Pipe 4 AVG Macro**\n",
            "f1 macro avg =  0.6912895183531227 \n",
            "\n"
          ],
          "name": "stdout"
        }
      ]
    },
    {
      "metadata": {
        "id": "srHklp2kBfAq",
        "colab_type": "text"
      },
      "cell_type": "markdown",
      "source": [
        "### Εκτύπωση Confusion Matrix για τo βέλτιστο Pipeline"
      ]
    },
    {
      "metadata": {
        "id": "rz2KIw-n0QjU",
        "colab_type": "text"
      },
      "cell_type": "markdown",
      "source": [
        "Το καλύτερο f1_micro μας βγήκε για το Pipe 3"
      ]
    },
    {
      "metadata": {
        "id": "H2DyF21Syucs",
        "colab_type": "code",
        "outputId": "d087f5f3-fb37-4372-b3e3-14c6a7914814",
        "colab": {
          "base_uri": "https://localhost:8080/",
          "height": 393
        }
      },
      "cell_type": "code",
      "source": [
        "df_micro = conmat(test_labels,preds_micro,label_names)\n",
        "df_micro"
      ],
      "execution_count": 0,
      "outputs": [
        {
          "output_type": "stream",
          "text": [
            "              precision    recall  f1-score   support\n",
            "\n",
            "         bus       0.89      0.98      0.93        43\n",
            "        opel       0.40      0.41      0.41        39\n",
            "        saab       0.45      0.38      0.41        45\n",
            "         van       0.87      0.91      0.89        43\n",
            "\n",
            "   micro avg       0.67      0.67      0.67       170\n",
            "   macro avg       0.65      0.67      0.66       170\n",
            "weighted avg       0.66      0.67      0.66       170\n",
            "\n"
          ],
          "name": "stdout"
        },
        {
          "output_type": "execute_result",
          "data": {
            "text/html": [
              "<div>\n",
              "<style scoped>\n",
              "    .dataframe tbody tr th:only-of-type {\n",
              "        vertical-align: middle;\n",
              "    }\n",
              "\n",
              "    .dataframe tbody tr th {\n",
              "        vertical-align: top;\n",
              "    }\n",
              "\n",
              "    .dataframe thead th {\n",
              "        text-align: right;\n",
              "    }\n",
              "</style>\n",
              "<table border=\"1\" class=\"dataframe\">\n",
              "  <thead>\n",
              "    <tr style=\"text-align: right;\">\n",
              "      <th></th>\n",
              "      <th>bus</th>\n",
              "      <th>opel</th>\n",
              "      <th>saab</th>\n",
              "      <th>van</th>\n",
              "    </tr>\n",
              "    <tr>\n",
              "      <th>Class</th>\n",
              "      <th></th>\n",
              "      <th></th>\n",
              "      <th></th>\n",
              "      <th></th>\n",
              "    </tr>\n",
              "  </thead>\n",
              "  <tbody>\n",
              "    <tr>\n",
              "      <th>bus</th>\n",
              "      <td>42</td>\n",
              "      <td>0</td>\n",
              "      <td>0</td>\n",
              "      <td>1</td>\n",
              "    </tr>\n",
              "    <tr>\n",
              "      <th>opel</th>\n",
              "      <td>2</td>\n",
              "      <td>16</td>\n",
              "      <td>19</td>\n",
              "      <td>2</td>\n",
              "    </tr>\n",
              "    <tr>\n",
              "      <th>saab</th>\n",
              "      <td>2</td>\n",
              "      <td>23</td>\n",
              "      <td>17</td>\n",
              "      <td>3</td>\n",
              "    </tr>\n",
              "    <tr>\n",
              "      <th>van</th>\n",
              "      <td>1</td>\n",
              "      <td>1</td>\n",
              "      <td>2</td>\n",
              "      <td>39</td>\n",
              "    </tr>\n",
              "  </tbody>\n",
              "</table>\n",
              "</div>"
            ],
            "text/plain": [
              "       bus  opel  saab  van\n",
              "Class                      \n",
              "bus     42     0     0    1\n",
              "opel     2    16    19    2\n",
              "saab     2    23    17    3\n",
              "van      1     1     2   39"
            ]
          },
          "metadata": {
            "tags": []
          },
          "execution_count": 29
        }
      ]
    },
    {
      "metadata": {
        "id": "WEDLeWlO0XGK",
        "colab_type": "text"
      },
      "cell_type": "markdown",
      "source": [
        "Το καλύτερο f1_macro μας βγήκε για το Pipe 4"
      ]
    },
    {
      "metadata": {
        "id": "ErT1lf1n0mFe",
        "colab_type": "code",
        "outputId": "eb44ee0a-3405-444b-acdd-4bd50cae1219",
        "colab": {
          "base_uri": "https://localhost:8080/",
          "height": 393
        }
      },
      "cell_type": "code",
      "source": [
        "df_macro = conmat(test_labels,preds_macro,label_names)\n",
        "df_macro"
      ],
      "execution_count": 0,
      "outputs": [
        {
          "output_type": "stream",
          "text": [
            "              precision    recall  f1-score   support\n",
            "\n",
            "         bus       0.91      0.93      0.92        43\n",
            "        opel       0.44      0.44      0.44        39\n",
            "        saab       0.51      0.47      0.49        45\n",
            "         van       0.89      0.95      0.92        43\n",
            "\n",
            "   micro avg       0.70      0.70      0.70       170\n",
            "   macro avg       0.69      0.70      0.69       170\n",
            "weighted avg       0.69      0.70      0.69       170\n",
            "\n"
          ],
          "name": "stdout"
        },
        {
          "output_type": "execute_result",
          "data": {
            "text/html": [
              "<div>\n",
              "<style scoped>\n",
              "    .dataframe tbody tr th:only-of-type {\n",
              "        vertical-align: middle;\n",
              "    }\n",
              "\n",
              "    .dataframe tbody tr th {\n",
              "        vertical-align: top;\n",
              "    }\n",
              "\n",
              "    .dataframe thead th {\n",
              "        text-align: right;\n",
              "    }\n",
              "</style>\n",
              "<table border=\"1\" class=\"dataframe\">\n",
              "  <thead>\n",
              "    <tr style=\"text-align: right;\">\n",
              "      <th></th>\n",
              "      <th>bus</th>\n",
              "      <th>opel</th>\n",
              "      <th>saab</th>\n",
              "      <th>van</th>\n",
              "    </tr>\n",
              "    <tr>\n",
              "      <th>Class</th>\n",
              "      <th></th>\n",
              "      <th></th>\n",
              "      <th></th>\n",
              "      <th></th>\n",
              "    </tr>\n",
              "  </thead>\n",
              "  <tbody>\n",
              "    <tr>\n",
              "      <th>bus</th>\n",
              "      <td>40</td>\n",
              "      <td>1</td>\n",
              "      <td>1</td>\n",
              "      <td>1</td>\n",
              "    </tr>\n",
              "    <tr>\n",
              "      <th>opel</th>\n",
              "      <td>2</td>\n",
              "      <td>17</td>\n",
              "      <td>18</td>\n",
              "      <td>2</td>\n",
              "    </tr>\n",
              "    <tr>\n",
              "      <th>saab</th>\n",
              "      <td>2</td>\n",
              "      <td>20</td>\n",
              "      <td>21</td>\n",
              "      <td>2</td>\n",
              "    </tr>\n",
              "    <tr>\n",
              "      <th>van</th>\n",
              "      <td>0</td>\n",
              "      <td>1</td>\n",
              "      <td>1</td>\n",
              "      <td>41</td>\n",
              "    </tr>\n",
              "  </tbody>\n",
              "</table>\n",
              "</div>"
            ],
            "text/plain": [
              "       bus  opel  saab  van\n",
              "Class                      \n",
              "bus     40     1     1    1\n",
              "opel     2    17    18    2\n",
              "saab     2    20    21    2\n",
              "van      0     1     1   41"
            ]
          },
          "metadata": {
            "tags": []
          },
          "execution_count": 30
        }
      ]
    },
    {
      "metadata": {
        "colab_type": "text",
        "id": "-nX8i4PBEKYg"
      },
      "cell_type": "markdown",
      "source": [
        "## Δ2. Χρόνοι εκτέλεσης"
      ]
    },
    {
      "metadata": {
        "id": "LrQy8UH3BMmK",
        "colab_type": "code",
        "outputId": "43b4e057-56b1-4d82-d58f-bde470bac161",
        "colab": {
          "base_uri": "https://localhost:8080/",
          "height": 70
        }
      },
      "cell_type": "code",
      "source": [
        "print('Cross Validation time for optimum Pipeline = ',cv_time)\n",
        "print('Fit - Predict time for optimum Pipeline for micro= ',fp1_time)\n",
        "print('Fit - Predict time for optimum Pipeline for macro= ',fp2_time)"
      ],
      "execution_count": 0,
      "outputs": [
        {
          "output_type": "stream",
          "text": [
            "CV time for optimum Pipeline =  322.8191120624542\n",
            "FP time for optimum Pipeline for micro=  0.015915870666503906\n",
            "FP time for optimum Pipeline for macro=  0.014788627624511719\n"
          ],
          "name": "stdout"
        }
      ]
    },
    {
      "metadata": {
        "colab_type": "text",
        "id": "PonZQJRoERqY"
      },
      "cell_type": "markdown",
      "source": [
        "## Δ3. Bar Plot"
      ]
    },
    {
      "metadata": {
        "id": "jYy4um1rDw8c",
        "colab_type": "code",
        "outputId": "9406de7c-2ead-4d66-a665-f0e5f89ca937",
        "colab": {
          "base_uri": "https://localhost:8080/",
          "height": 378
        }
      },
      "cell_type": "code",
      "source": [
        "from matplotlib import pyplot as plt\n",
        "\n",
        "x_axis = ['F1 Micro','F1 Macro']\n",
        "ind = np.arange(len(x_axis))\n",
        "\n",
        "plt.xticks(ind,x_axis)\n",
        "\n",
        "plt.title(\"Classifier Metrics\")\n",
        "\n",
        "plt.bar(ind,[knn_metrics[0],knn_metrics[1]],width=0.10,label=\"κΝΝ\")\n",
        "plt.bar(ind+0.12,[f1_micro,f1_macro],width=0.10,label=\"Pipeline\") \n",
        "\n",
        "plt.legend()\n"
      ],
      "execution_count": 0,
      "outputs": [
        {
          "output_type": "execute_result",
          "data": {
            "text/plain": [
              "<matplotlib.legend.Legend at 0x7fa56aa404e0>"
            ]
          },
          "metadata": {
            "tags": []
          },
          "execution_count": 42
        },
        {
          "output_type": "display_data",
          "data": {
            "image/png": "[encoded data removed]",
            "text/plain": [
              "<matplotlib.figure.Figure at 0x7fa56aaaeb38>"
            ]
          },
          "metadata": {
            "tags": []
          }
        }
      ]
    },
    {
      "metadata": {
        "colab_type": "text",
        "id": "ECOIQvcIE3Qw"
      },
      "cell_type": "markdown",
      "source": [
        "## Δ4. Μεταβολή Επίδοσης kNN"
      ]
    },
    {
      "metadata": {
        "id": "i74P4wckE8dT",
        "colab_type": "code",
        "outputId": "727a3c41-f9c2-45b1-c3d0-c4dca6099403",
        "colab": {
          "base_uri": "https://localhost:8080/",
          "height": 137
        }
      },
      "cell_type": "code",
      "source": [
        "dscore = np.array([[knn_metrics[0] ,knn_metrics[1]],\n",
        "                   [f1_micro,f1_macro],\n",
        "                   [(f1_micro - knn_metrics[0])/knn_metrics[0]*100,(f1_macro - knn_metrics[1])/knn_metrics[1]*100]])\n",
        "\n",
        "\n",
        "cols = ['kNN','Pipeline', '% Μεταβολή']\n",
        "\n",
        "df = pd.DataFrame(dscore.T,columns = cols)\n",
        "df['F1'] = ['f1_micro','f1_macro']\n",
        "df.set_index('F1',inplace=True)\n",
        "df\n"
      ],
      "execution_count": 0,
      "outputs": [
        {
          "output_type": "execute_result",
          "data": {
            "text/html": [
              "<div>\n",
              "<style scoped>\n",
              "    .dataframe tbody tr th:only-of-type {\n",
              "        vertical-align: middle;\n",
              "    }\n",
              "\n",
              "    .dataframe tbody tr th {\n",
              "        vertical-align: top;\n",
              "    }\n",
              "\n",
              "    .dataframe thead th {\n",
              "        text-align: right;\n",
              "    }\n",
              "</style>\n",
              "<table border=\"1\" class=\"dataframe\">\n",
              "  <thead>\n",
              "    <tr style=\"text-align: right;\">\n",
              "      <th></th>\n",
              "      <th>kNN</th>\n",
              "      <th>Pipeline</th>\n",
              "      <th>% Μεταβολή</th>\n",
              "    </tr>\n",
              "    <tr>\n",
              "      <th>F1</th>\n",
              "      <th></th>\n",
              "      <th></th>\n",
              "      <th></th>\n",
              "    </tr>\n",
              "  </thead>\n",
              "  <tbody>\n",
              "    <tr>\n",
              "      <th>f1_micro</th>\n",
              "      <td>0.623529</td>\n",
              "      <td>0.670588</td>\n",
              "      <td>7.547170</td>\n",
              "    </tr>\n",
              "    <tr>\n",
              "      <th>f1_macro</th>\n",
              "      <td>0.619659</td>\n",
              "      <td>0.691290</td>\n",
              "      <td>11.559662</td>\n",
              "    </tr>\n",
              "  </tbody>\n",
              "</table>\n",
              "</div>"
            ],
            "text/plain": [
              "               kNN  Pipeline  % Μεταβολή\n",
              "F1                                      \n",
              "f1_micro  0.623529  0.670588    7.547170\n",
              "f1_macro  0.619659  0.691290   11.559662"
            ]
          },
          "metadata": {
            "tags": []
          },
          "execution_count": 40
        }
      ]
    },
    {
      "metadata": {
        "colab_type": "text",
        "id": "coaCZLmdGOnF"
      },
      "cell_type": "markdown",
      "source": [
        "## Δ5. Σχολιασμός των αποτελεσμάτων"
      ]
    },
    {
      "metadata": {
        "id": "sG8wCXiUF2nH",
        "colab_type": "text"
      },
      "cell_type": "markdown",
      "source": [
        "Παρατηρούμε βελτίωση του ταξινομητή σε όλα τα pipelines αλλά αυτά που ξεχωρίζουν είναι αυτά στα οποία χρησιμοποιήθηκε ο minmax scaler. Εξ αυτών ξεχωρίζουν τα pipes κΝΝ + scaler και kNN + Scaler + PCA. Στο cross validation μας αποφασίσαμε να εξαντλησουμε σχεδόν όλουςτους πιθανούς συνδυασμούς γι'αυτό και το cv_time μας παίρνει λίγο παραπάνω. Κρίνοντας από το αποτέλεσμα θα μπορούσαμε να το περιορίσουμε πάρα πολύ, αλλά προτιμούμε να δείξουμε τη διαδικασία που το υλοποιήσαμε. Δε χρησιμοποιήσαμε ROS αφου το δείγμα μας ήταν εξισορροπημένο, οπότε και το θεωρήσαμε περιττό. Τέλος παρατηρούμε, όπως υποδεικνύει και ο τελευταίος πίνακας που τυπώσαμε, βελτίωση στο f1_micro κατά 7,55% με χρήση του Pipeline : kNN + scaler, και βελτίωση του f1_macro κατά 11,56% με χρήση του Pipeline : kNN + scaler + PCA"
      ]
    }
  ]
}